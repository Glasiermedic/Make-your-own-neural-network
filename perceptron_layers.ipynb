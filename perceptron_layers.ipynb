{
  "nbformat": 4,
  "nbformat_minor": 0,
  "metadata": {
    "colab": {
      "name": "Untitled12.ipynb",
      "version": "0.3.2",
      "provenance": [],
      "include_colab_link": true
    },
    "kernelspec": {
      "name": "python3",
      "display_name": "Python 3"
    }
  },
  "cells": [
    {
      "cell_type": "markdown",
      "metadata": {
        "id": "view-in-github",
        "colab_type": "text"
      },
      "source": [
        "<a href=\"https://colab.research.google.com/github/Glasiermedic/Make-your-own-neural-network/blob/master/perceptron_layers.ipynb\" target=\"_parent\"><img src=\"https://colab.research.google.com/assets/colab-badge.svg\" alt=\"Open In Colab\"/></a>"
      ]
    },
    {
      "cell_type": "code",
      "metadata": {
        "id": "Mokdxw3ELT4k",
        "colab_type": "code",
        "colab": {}
      },
      "source": [
        "import numpy as np\n",
        "import pandas as pd\n",
        "import matplotlib.pyplot as plt\n",
        "%matplotlib inline"
      ],
      "execution_count": 0,
      "outputs": []
    },
    {
      "cell_type": "code",
      "metadata": {
        "id": "AD1Buz4-Lg2v",
        "colab_type": "code",
        "colab": {}
      },
      "source": [
        "artworks = pd.read_csv('https://media.githubusercontent.com/media/MuseumofModernArt/collection/master/Artworks.csv')"
      ],
      "execution_count": 0,
      "outputs": []
    },
    {
      "cell_type": "code",
      "metadata": {
        "id": "v5JjCFXvL5Mc",
        "colab_type": "code",
        "outputId": "d2700603-4139-4381-926a-6a782f417b2c",
        "colab": {
          "base_uri": "https://localhost:8080/",
          "height": 155
        }
      },
      "source": [
        "artworks.columns"
      ],
      "execution_count": 0,
      "outputs": [
        {
          "output_type": "execute_result",
          "data": {
            "text/plain": [
              "Index(['Title', 'Artist', 'ConstituentID', 'ArtistBio', 'Nationality',\n",
              "       'BeginDate', 'EndDate', 'Gender', 'Date', 'Medium', 'Dimensions',\n",
              "       'CreditLine', 'AccessionNumber', 'Classification', 'Department',\n",
              "       'DateAcquired', 'Cataloged', 'ObjectID', 'URL', 'ThumbnailURL',\n",
              "       'Circumference (cm)', 'Depth (cm)', 'Diameter (cm)', 'Height (cm)',\n",
              "       'Length (cm)', 'Weight (kg)', 'Width (cm)', 'Seat Height (cm)',\n",
              "       'Duration (sec.)'],\n",
              "      dtype='object')"
            ]
          },
          "metadata": {
            "tags": []
          },
          "execution_count": 3
        }
      ]
    },
    {
      "cell_type": "code",
      "metadata": {
        "id": "r9ln4bUqL-Za",
        "colab_type": "code",
        "colab": {}
      },
      "source": [
        "# Select Columns.\n",
        "artworks = artworks[['Artist', 'Nationality', 'Gender', 'Date', 'Department',\n",
        "                    'DateAcquired', 'URL', 'ThumbnailURL', 'Height (cm)', 'Width (cm)']]\n",
        "\n",
        "# Convert URL's to booleans.\n",
        "artworks['URL'] = artworks['URL'].notnull()\n",
        "artworks['ThumbnailURL'] = artworks['ThumbnailURL'].notnull()\n",
        "\n",
        "# Drop films and some other tricky rows.\n",
        "artworks = artworks[artworks['Department']!='Film']\n",
        "artworks = artworks[artworks['Department']!='Media and Performance Art']\n",
        "artworks = artworks[artworks['Department']!='Fluxus Collection']\n",
        "\n",
        "# Drop missing data.\n",
        "artworks = artworks.dropna()"
      ],
      "execution_count": 0,
      "outputs": []
    },
    {
      "cell_type": "code",
      "metadata": {
        "id": "b2vQhZszL_OE",
        "colab_type": "code",
        "outputId": "831d7fe0-852e-458a-ed2b-09a7763a701a",
        "colab": {
          "base_uri": "https://localhost:8080/",
          "height": 203
        }
      },
      "source": [
        "artworks.head()"
      ],
      "execution_count": 0,
      "outputs": [
        {
          "output_type": "execute_result",
          "data": {
            "text/html": [
              "<div>\n",
              "<style scoped>\n",
              "    .dataframe tbody tr th:only-of-type {\n",
              "        vertical-align: middle;\n",
              "    }\n",
              "\n",
              "    .dataframe tbody tr th {\n",
              "        vertical-align: top;\n",
              "    }\n",
              "\n",
              "    .dataframe thead th {\n",
              "        text-align: right;\n",
              "    }\n",
              "</style>\n",
              "<table border=\"1\" class=\"dataframe\">\n",
              "  <thead>\n",
              "    <tr style=\"text-align: right;\">\n",
              "      <th></th>\n",
              "      <th>Artist</th>\n",
              "      <th>Nationality</th>\n",
              "      <th>Gender</th>\n",
              "      <th>Date</th>\n",
              "      <th>Department</th>\n",
              "      <th>DateAcquired</th>\n",
              "      <th>URL</th>\n",
              "      <th>ThumbnailURL</th>\n",
              "      <th>Height (cm)</th>\n",
              "      <th>Width (cm)</th>\n",
              "    </tr>\n",
              "  </thead>\n",
              "  <tbody>\n",
              "    <tr>\n",
              "      <th>0</th>\n",
              "      <td>Otto Wagner</td>\n",
              "      <td>(Austrian)</td>\n",
              "      <td>(Male)</td>\n",
              "      <td>1896</td>\n",
              "      <td>Architecture &amp; Design</td>\n",
              "      <td>1996-04-09</td>\n",
              "      <td>True</td>\n",
              "      <td>True</td>\n",
              "      <td>48.6000</td>\n",
              "      <td>168.9000</td>\n",
              "    </tr>\n",
              "    <tr>\n",
              "      <th>1</th>\n",
              "      <td>Christian de Portzamparc</td>\n",
              "      <td>(French)</td>\n",
              "      <td>(Male)</td>\n",
              "      <td>1987</td>\n",
              "      <td>Architecture &amp; Design</td>\n",
              "      <td>1995-01-17</td>\n",
              "      <td>True</td>\n",
              "      <td>True</td>\n",
              "      <td>40.6401</td>\n",
              "      <td>29.8451</td>\n",
              "    </tr>\n",
              "    <tr>\n",
              "      <th>2</th>\n",
              "      <td>Emil Hoppe</td>\n",
              "      <td>(Austrian)</td>\n",
              "      <td>(Male)</td>\n",
              "      <td>1903</td>\n",
              "      <td>Architecture &amp; Design</td>\n",
              "      <td>1997-01-15</td>\n",
              "      <td>True</td>\n",
              "      <td>True</td>\n",
              "      <td>34.3000</td>\n",
              "      <td>31.8000</td>\n",
              "    </tr>\n",
              "    <tr>\n",
              "      <th>3</th>\n",
              "      <td>Bernard Tschumi</td>\n",
              "      <td>()</td>\n",
              "      <td>(Male)</td>\n",
              "      <td>1980</td>\n",
              "      <td>Architecture &amp; Design</td>\n",
              "      <td>1995-01-17</td>\n",
              "      <td>True</td>\n",
              "      <td>True</td>\n",
              "      <td>50.8000</td>\n",
              "      <td>50.8000</td>\n",
              "    </tr>\n",
              "    <tr>\n",
              "      <th>4</th>\n",
              "      <td>Emil Hoppe</td>\n",
              "      <td>(Austrian)</td>\n",
              "      <td>(Male)</td>\n",
              "      <td>1903</td>\n",
              "      <td>Architecture &amp; Design</td>\n",
              "      <td>1997-01-15</td>\n",
              "      <td>True</td>\n",
              "      <td>True</td>\n",
              "      <td>38.4000</td>\n",
              "      <td>19.1000</td>\n",
              "    </tr>\n",
              "  </tbody>\n",
              "</table>\n",
              "</div>"
            ],
            "text/plain": [
              "                     Artist Nationality  ... Height (cm) Width (cm)\n",
              "0               Otto Wagner  (Austrian)  ...     48.6000   168.9000\n",
              "1  Christian de Portzamparc    (French)  ...     40.6401    29.8451\n",
              "2                Emil Hoppe  (Austrian)  ...     34.3000    31.8000\n",
              "3           Bernard Tschumi          ()  ...     50.8000    50.8000\n",
              "4                Emil Hoppe  (Austrian)  ...     38.4000    19.1000\n",
              "\n",
              "[5 rows x 10 columns]"
            ]
          },
          "metadata": {
            "tags": []
          },
          "execution_count": 5
        }
      ]
    },
    {
      "cell_type": "code",
      "metadata": {
        "id": "QQGXJylhMRoi",
        "colab_type": "code",
        "outputId": "8196c0f6-f787-4bb0-cd52-a0a24bf24cd9",
        "colab": {
          "base_uri": "https://localhost:8080/",
          "height": 207
        }
      },
      "source": [
        "# Get data types.\n",
        "artworks.dtypes"
      ],
      "execution_count": 0,
      "outputs": [
        {
          "output_type": "execute_result",
          "data": {
            "text/plain": [
              "Artist           object\n",
              "Nationality      object\n",
              "Gender           object\n",
              "Date             object\n",
              "Department       object\n",
              "DateAcquired     object\n",
              "URL                bool\n",
              "ThumbnailURL       bool\n",
              "Height (cm)     float64\n",
              "Width (cm)      float64\n",
              "dtype: object"
            ]
          },
          "metadata": {
            "tags": []
          },
          "execution_count": 6
        }
      ]
    },
    {
      "cell_type": "code",
      "metadata": {
        "id": "bskug-tOMWzA",
        "colab_type": "code",
        "outputId": "dd810f04-7be0-478c-b1ae-2ad483a56a22",
        "colab": {
          "base_uri": "https://localhost:8080/",
          "height": 34
        }
      },
      "source": [
        "artworks['DateAcquired'] = pd.to_datetime(artworks.DateAcquired)\n",
        "artworks['YearAcquired'] = artworks.DateAcquired.dt.year\n",
        "artworks['YearAcquired'].dtype"
      ],
      "execution_count": 0,
      "outputs": [
        {
          "output_type": "execute_result",
          "data": {
            "text/plain": [
              "dtype('int64')"
            ]
          },
          "metadata": {
            "tags": []
          },
          "execution_count": 7
        }
      ]
    },
    {
      "cell_type": "code",
      "metadata": {
        "id": "gB4-rv9qMZIs",
        "colab_type": "code",
        "colab": {}
      },
      "source": [
        "# Remove multiple nationalities, genders, and artists.\n",
        "artworks.loc[artworks['Gender'].str.contains('\\) \\('), 'Gender'] = '\\(multiple_persons\\)'\n",
        "artworks.loc[artworks['Nationality'].str.contains('\\) \\('), 'Nationality'] = '\\(multiple_nationalities\\)'\n",
        "artworks.loc[artworks['Artist'].str.contains(','), 'Artist'] = 'Multiple_Artists'\n",
        "\n",
        "# Convert dates to start date, cutting down number of distinct examples.\n",
        "artworks['Date'] = pd.Series(artworks.Date.str.extract(\n",
        "    '([0-9]{4})', expand=False))[:-1]\n",
        "\n",
        "# Final column drops and NA drop.\n",
        "X = artworks.drop(['Department', 'DateAcquired', 'Artist', 'Nationality', 'Date'], 1)\n",
        "\n",
        "# Create dummies separately.\n",
        "artists = pd.get_dummies(artworks.Artist)\n",
        "nationalities = pd.get_dummies(artworks.Nationality)\n",
        "dates = pd.get_dummies(artworks.Date)\n",
        "\n",
        "# Concat with other variables, but artists slows this wayyyyy down so we'll keep it out for now\n",
        "X = pd.get_dummies(X, sparse=True)\n",
        "X = pd.concat([X, nationalities, dates], axis=1)\n",
        "\n",
        "Y = artworks.Department"
      ],
      "execution_count": 0,
      "outputs": []
    },
    {
      "cell_type": "code",
      "metadata": {
        "id": "m3casM6PhYwm",
        "colab_type": "code",
        "outputId": "7c9b0d53-6ff8-4338-fdd9-0118b47ba42b",
        "colab": {
          "base_uri": "https://localhost:8080/",
          "height": 137
        }
      },
      "source": [
        "X.columns"
      ],
      "execution_count": 0,
      "outputs": [
        {
          "output_type": "execute_result",
          "data": {
            "text/plain": [
              "Index(['URL', 'ThumbnailURL', 'Height (cm)', 'Width (cm)', 'YearAcquired',\n",
              "       'Gender_()', 'Gender_(Female)', 'Gender_(Male)', 'Gender_(male)',\n",
              "       'Gender_\\(multiple_persons\\)',\n",
              "       ...\n",
              "       '2009', '2010', '2011', '2012', '2013', '2014', '2015', '2016', '2017',\n",
              "       '2018'],\n",
              "      dtype='object', length=318)"
            ]
          },
          "metadata": {
            "tags": []
          },
          "execution_count": 9
        }
      ]
    },
    {
      "cell_type": "code",
      "metadata": {
        "id": "_qNAXvLGMcZv",
        "colab_type": "code",
        "outputId": "55d67117-1d2c-4e88-d6b9-c2b175d11bf1",
        "colab": {
          "base_uri": "https://localhost:8080/",
          "height": 192
        }
      },
      "source": [
        "# Alright! We've done our prep, let's build the model.\n",
        "# Neural networks are hugely computationally intensive.\n",
        "# This may take several minutes to run.\n",
        "\n",
        "# Import the model.\n",
        "from sklearn.neural_network import MLPClassifier\n",
        "\n",
        "# Establish and fit the model, with a single, 1000 perceptron layer.\n",
        "mlp = MLPClassifier(hidden_layer_sizes=(1000,), verbose = 0, random_state= 1, max_iter = 85)\n",
        "mlp.fit(X, Y)"
      ],
      "execution_count": 0,
      "outputs": [
        {
          "output_type": "stream",
          "text": [
            "/usr/local/lib/python3.6/dist-packages/sklearn/neural_network/multilayer_perceptron.py:566: ConvergenceWarning: Stochastic Optimizer: Maximum iterations (85) reached and the optimization hasn't converged yet.\n",
            "  % self.max_iter, ConvergenceWarning)\n"
          ],
          "name": "stderr"
        },
        {
          "output_type": "execute_result",
          "data": {
            "text/plain": [
              "MLPClassifier(activation='relu', alpha=0.0001, batch_size='auto', beta_1=0.9,\n",
              "              beta_2=0.999, early_stopping=False, epsilon=1e-08,\n",
              "              hidden_layer_sizes=(1000,), learning_rate='constant',\n",
              "              learning_rate_init=0.001, max_iter=85, momentum=0.9,\n",
              "              n_iter_no_change=10, nesterovs_momentum=True, power_t=0.5,\n",
              "              random_state=1, shuffle=True, solver='adam', tol=0.0001,\n",
              "              validation_fraction=0.1, verbose=0, warm_start=False)"
            ]
          },
          "metadata": {
            "tags": []
          },
          "execution_count": 10
        }
      ]
    },
    {
      "cell_type": "code",
      "metadata": {
        "id": "eNKXb4b7UE6-",
        "colab_type": "code",
        "outputId": "56df1282-8aa6-4212-885c-c5295447caef",
        "colab": {
          "base_uri": "https://localhost:8080/",
          "height": 34
        }
      },
      "source": [
        "(mlp.score(X, Y))"
      ],
      "execution_count": 0,
      "outputs": [
        {
          "output_type": "execute_result",
          "data": {
            "text/plain": [
              "0.7692179638946434"
            ]
          },
          "metadata": {
            "tags": []
          },
          "execution_count": 11
        }
      ]
    },
    {
      "cell_type": "code",
      "metadata": {
        "id": "wdzi0WCTUHcT",
        "colab_type": "code",
        "outputId": "791a44f9-bca2-4fb7-874f-1541c4329952",
        "colab": {
          "base_uri": "https://localhost:8080/",
          "height": 120
        }
      },
      "source": [
        "Y.value_counts()/len(Y)"
      ],
      "execution_count": 0,
      "outputs": [
        {
          "output_type": "execute_result",
          "data": {
            "text/plain": [
              "Drawings & Prints        0.623002\n",
              "Photography              0.226630\n",
              "Architecture & Design    0.113171\n",
              "Painting & Sculpture     0.033590\n",
              "Media and Performance    0.003607\n",
              "Name: Department, dtype: float64"
            ]
          },
          "metadata": {
            "tags": []
          },
          "execution_count": 12
        }
      ]
    },
    {
      "cell_type": "code",
      "metadata": {
        "id": "WS6IBXvlUJWU",
        "colab_type": "code",
        "outputId": "76049ca4-4aff-4bb5-93bf-e7a7456e3557",
        "colab": {
          "base_uri": "https://localhost:8080/",
          "height": 137
        }
      },
      "source": [
        "mlp = MLPClassifier(hidden_layer_sizes=(100,40,2), max_iter = 85, verbose = 0, random_state= 1)\n",
        "mlp.fit(X, Y)"
      ],
      "execution_count": 0,
      "outputs": [
        {
          "output_type": "execute_result",
          "data": {
            "text/plain": [
              "MLPClassifier(activation='relu', alpha=0.0001, batch_size='auto', beta_1=0.9,\n",
              "              beta_2=0.999, early_stopping=False, epsilon=1e-08,\n",
              "              hidden_layer_sizes=(100, 40, 2), learning_rate='constant',\n",
              "              learning_rate_init=0.001, max_iter=85, momentum=0.9,\n",
              "              n_iter_no_change=10, nesterovs_momentum=True, power_t=0.5,\n",
              "              random_state=1, shuffle=True, solver='adam', tol=0.0001,\n",
              "              validation_fraction=0.1, verbose=0, warm_start=False)"
            ]
          },
          "metadata": {
            "tags": []
          },
          "execution_count": 13
        }
      ]
    },
    {
      "cell_type": "code",
      "metadata": {
        "id": "4uBwFL5sct4j",
        "colab_type": "code",
        "colab": {}
      },
      "source": [
        ""
      ],
      "execution_count": 0,
      "outputs": []
    }
  ]
}