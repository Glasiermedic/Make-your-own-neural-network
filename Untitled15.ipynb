{
  "nbformat": 4,
  "nbformat_minor": 0,
  "metadata": {
    "colab": {
      "name": "Untitled15.ipynb",
      "version": "0.3.2",
      "provenance": [],
      "include_colab_link": true
    },
    "kernelspec": {
      "name": "python3",
      "display_name": "Python 3"
    }
  },
  "cells": [
    {
      "cell_type": "markdown",
      "metadata": {
        "id": "view-in-github",
        "colab_type": "text"
      },
      "source": [
        "<a href=\"https://colab.research.google.com/github/Glasiermedic/Make-your-own-neural-network/blob/master/Untitled15.ipynb\" target=\"_parent\"><img src=\"https://colab.research.google.com/assets/colab-badge.svg\" alt=\"Open In Colab\"/></a>"
      ]
    },
    {
      "cell_type": "markdown",
      "metadata": {
        "id": "xrlCS1BAJnEy",
        "colab_type": "text"
      },
      "source": [
        "Uber driver popularity would be best done as a satisfaction survey and the results averaged out"
      ]
    },
    {
      "cell_type": "markdown",
      "metadata": {
        "id": "G_jFEI-iJv9X",
        "colab_type": "text"
      },
      "source": [
        "Grocery Story icre cream flavors definitely could be a quick survey either upon entry or exit from the store and you could combine this with sales reports to combine self reporting with behavioral data"
      ]
    },
    {
      "cell_type": "markdown",
      "metadata": {
        "id": "y4FsLhDhKMXU",
        "colab_type": "text"
      },
      "source": [
        "Trojan is going to have to create a survey to collect the sexual preference of its customers but I would also turf this to a third party firms as part of a larger survey "
      ]
    },
    {
      "cell_type": "markdown",
      "metadata": {
        "id": "ObNVt2MpKo5i",
        "colab_type": "text"
      },
      "source": [
        "Why rentals rates have increased is a behavior  so a survey would be useful if it targeted how they found the rental company, what is their reason for rental"
      ]
    },
    {
      "cell_type": "markdown",
      "metadata": {
        "id": "Z0KTQXZULOgK",
        "colab_type": "text"
      },
      "source": [
        "Nurse to patient ratios again is more behavioral so a survey won't help directly. "
      ]
    }
  ]
}